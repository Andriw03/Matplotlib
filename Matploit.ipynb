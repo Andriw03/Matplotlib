{
 "cells": [
  {
   "cell_type": "code",
   "execution_count": 1,
   "id": "146dec17",
   "metadata": {},
   "outputs": [],
   "source": [
    "#pip install voila"
   ]
  },
  {
   "cell_type": "code",
   "execution_count": 2,
   "id": "a1099915",
   "metadata": {},
   "outputs": [],
   "source": [
    "#pip install folium"
   ]
  },
  {
   "cell_type": "code",
   "execution_count": 3,
   "id": "40812543",
   "metadata": {},
   "outputs": [],
   "source": [
    "import pandas as pd\n",
    "import numpy as np\n",
    "df = pd.read_csv(\"weatherAUS.csv\")\n",
    "#df"
   ]
  },
  {
   "cell_type": "code",
   "execution_count": 4,
   "id": "92b03ad9",
   "metadata": {},
   "outputs": [],
   "source": [
    "import pandas as pd\n",
    "from matplotlib import pyplot as plt\n",
    "import seaborn as sns\n",
    "%matplotlib inline\n",
    "import warnings\n",
    "warnings.filterwarnings('ignore')"
   ]
  },
  {
   "cell_type": "code",
   "execution_count": 5,
   "id": "68397a0a",
   "metadata": {},
   "outputs": [],
   "source": [
    "dt = df[['Ubicación','Lluvia','RISK_MM','Año']]"
   ]
  },
  {
   "cell_type": "code",
   "execution_count": 6,
   "id": "5858fee0",
   "metadata": {},
   "outputs": [],
   "source": [
    "dt[\"Lluvia\"] =df['Lluvia'].replace(np.nan,df[\"Lluvia\"].mean())"
   ]
  },
  {
   "cell_type": "code",
   "execution_count": 7,
   "id": "1b2ceb3c",
   "metadata": {},
   "outputs": [],
   "source": [
    "import pandas as pd\n",
    "import ipywidgets as widgets\n",
    "from ipywidgets import Layout\n",
    "location = dt.Ubicación.unique()\n",
    "ubicacion = widgets.Select(\n",
    "    options = location.tolist(),\n",
    "    # rows=10,\n",
    "    description='Ubicación',\n",
    "    disabled=False\n",
    ")"
   ]
  },
  {
   "cell_type": "code",
   "execution_count": 8,
   "id": "5de92a98",
   "metadata": {},
   "outputs": [],
   "source": [
    "import matplotlib.pyplot as plt\n",
    "\n",
    "def barras(ubicacion):\n",
    "    ## Declaramos valores para el eje x\n",
    "    eje_x = dt[(dt.Ubicación==ubicacion)].Año.unique()\n",
    "\n",
    "    ## Declaramos valores para el eje y\n",
    "    eje_y = dt[(dt.Ubicación==ubicacion)].groupby([\"Año\"]).mean()[\"RISK_MM\"]\n",
    "\n",
    "    ## Creamos Gráfica\n",
    "    plt.bar(eje_x, eje_y)\n",
    "\n",
    "    ## Legenda en el eje y\n",
    "    plt.ylabel('Promedio Risk_MM')\n",
    "\n",
    "    ## Legenda en el eje x\n",
    "    plt.xlabel('Año')\n",
    "\n",
    "    ## Título de Gráfica\n",
    "    plt.title('Risk_mm por año')\n",
    "\n",
    "    ## Mostramos Gráfica\n",
    "    plt.show()"
   ]
  },
  {
   "cell_type": "code",
   "execution_count": 9,
   "id": "5b6ab2a2",
   "metadata": {},
   "outputs": [],
   "source": [
    "#widgets.interactive(barras, ubicacion = ubicacion)"
   ]
  },
  {
   "cell_type": "code",
   "execution_count": 10,
   "id": "010c9729",
   "metadata": {},
   "outputs": [],
   "source": [
    "import numpy as np\n",
    "import matplotlib.pyplot as plt\n",
    "\n",
    "def barras(ubicacion):\n",
    "    serie_1 = dt[(dt.Ubicación==ubicacion)].groupby([\"Año\"]).mean()[\"RISK_MM\"]\n",
    "    serie_2 = dt[(dt.Ubicación==ubicacion)].groupby([\"Año\"]).mean()[\"Lluvia\"]\n",
    "\n",
    "\n",
    "    numero_de_grupos = len(serie_1)\n",
    "    indice_barras = np.arange(numero_de_grupos)\n",
    "    ancho_barras =0.35\n",
    "\n",
    "    plt.bar(indice_barras, serie_1, width=ancho_barras, label='Risk_mm')\n",
    "    plt.bar(indice_barras + ancho_barras, serie_2, width=ancho_barras, label='Lluvia')\n",
    "    plt.legend(loc='best')\n",
    "    ## Se colocan los indicadores en el eje x\n",
    "    plt.xticks(indice_barras + ancho_barras, dt[(dt.Ubicación==ubicacion)].Año.unique())\n",
    "\n",
    "    plt.ylabel('Promedio')\n",
    "    plt.xlabel('Año')\n",
    "    plt.title('Promedio Risk_mm & LLuvia por año')\n",
    "\n",
    "    plt.show()"
   ]
  },
  {
   "cell_type": "code",
   "execution_count": 11,
   "id": "800916d3",
   "metadata": {},
   "outputs": [],
   "source": [
    "#widgets.interactive(barras, ubicacion = ubicacion)"
   ]
  },
  {
   "cell_type": "code",
   "execution_count": 12,
   "id": "daf10e5e",
   "metadata": {},
   "outputs": [],
   "source": [
    "import matplotlib.pyplot as plot\n",
    "import pandas as pd\n",
    "def histo(ubicacion):\n",
    "    \n",
    "    edades = dt[(dt.Ubicación==ubicacion)].groupby([\"Año\"]).mean()[\"RISK_MM\"]\n",
    "\n",
    "    datos = pd.Series(edades) # cargamos los datos en un objeto Series\n",
    "    intervalos = np.arange(min(datos), max(datos) + 2)  # calculamos los extremos de los intervalos\n",
    "\n",
    "    datos.plot.hist(bins=8, color='#F2AB6D', rwidth=0.85) # generamos el histograma a partir de los datos\n",
    "    plot.xticks(intervalos)\n",
    "    plot.ylabel('Frecuencia')\n",
    "    plot.xlabel('Risk_mm')\n",
    "    plot.title('Histograma RISK_MM')\n",
    "\n",
    "    plot.show()"
   ]
  },
  {
   "cell_type": "code",
   "execution_count": 13,
   "id": "b53eed20",
   "metadata": {},
   "outputs": [],
   "source": [
    "#widgets.interactive(histo, ubicacion = ubicacion)"
   ]
  },
  {
   "cell_type": "code",
   "execution_count": 14,
   "id": "fb2d7c2b",
   "metadata": {},
   "outputs": [],
   "source": [
    "import numpy as np\n",
    "import pandas as pd\n",
    "import matplotlib.pyplot as plt\n",
    "\n",
    "def tendencia(ubicacion):\n",
    "    Sports = {\n",
    "    \"Promedio\": dt[(dt.Ubicación==ubicacion)].groupby([\"Año\"]).mean()[\"RISK_MM\"],\n",
    "    \"Año\": dt[(dt.Ubicación==ubicacion)].Año.unique()\n",
    "    }\n",
    "\n",
    "    df = pd.DataFrame(Sports)\n",
    "    print(df)\n",
    "\n",
    "    # to plot the graph\n",
    "    df.plot(x=\"Año\", y=\"Promedio\", kind=\"line\")\n",
    "    plt.show()"
   ]
  },
  {
   "cell_type": "code",
   "execution_count": 15,
   "id": "029fd2a0",
   "metadata": {},
   "outputs": [],
   "source": [
    "ten = widgets.interactive(tendencia, ubicacion = ubicacion)\n",
    "his = widgets.interactive(histo, ubicacion = ubicacion)\n",
    "bar = widgets.interactive(barras, ubicacion = ubicacion)"
   ]
  },
  {
   "cell_type": "code",
   "execution_count": 16,
   "id": "c225ac44",
   "metadata": {},
   "outputs": [
    {
     "data": {
      "application/vnd.jupyter.widget-view+json": {
       "model_id": "fa5f413f19ba4be99d893abe500c79dd",
       "version_major": 2,
       "version_minor": 0
      },
      "text/plain": [
       "interactive(children=(Select(description='Ubicación', options=('Albury', 'BadgerysCreek', 'Cobar', 'CoffsHarbo…"
      ]
     },
     "metadata": {},
     "output_type": "display_data"
    },
    {
     "data": {
      "application/vnd.jupyter.widget-view+json": {
       "model_id": "737adde0b6124b188e1c60262132d68b",
       "version_major": 2,
       "version_minor": 0
      },
      "text/plain": [
       "interactive(children=(Select(description='Ubicación', options=('Albury', 'BadgerysCreek', 'Cobar', 'CoffsHarbo…"
      ]
     },
     "metadata": {},
     "output_type": "display_data"
    },
    {
     "data": {
      "application/vnd.jupyter.widget-view+json": {
       "model_id": "d119be9447574e43a06891ad9008e45d",
       "version_major": 2,
       "version_minor": 0
      },
      "text/plain": [
       "interactive(children=(Select(description='Ubicación', options=('Albury', 'BadgerysCreek', 'Cobar', 'CoffsHarbo…"
      ]
     },
     "metadata": {},
     "output_type": "display_data"
    }
   ],
   "source": [
    "display(ten, his,bar)"
   ]
  },
  {
   "cell_type": "code",
   "execution_count": null,
   "id": "706e5486",
   "metadata": {},
   "outputs": [],
   "source": []
  }
 ],
 "metadata": {
  "kernelspec": {
   "display_name": "Python 3 (ipykernel)",
   "language": "python",
   "name": "python3"
  },
  "language_info": {
   "codemirror_mode": {
    "name": "ipython",
    "version": 3
   },
   "file_extension": ".py",
   "mimetype": "text/x-python",
   "name": "python",
   "nbconvert_exporter": "python",
   "pygments_lexer": "ipython3",
   "version": "3.9.7"
  }
 },
 "nbformat": 4,
 "nbformat_minor": 5
}
